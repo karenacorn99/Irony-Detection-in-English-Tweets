{
 "cells": [
  {
   "cell_type": "markdown",
   "metadata": {},
   "source": [
    "## Irony Detection in English Tweets with Neural Network ##"
   ]
  },
  {
   "cell_type": "code",
   "execution_count": null,
   "metadata": {},
   "outputs": [],
   "source": [
    "import pandas as pd\n",
    "import numpy as np\n",
    "import matplotlib.pyplot as plt\n",
    "import random\n",
    "import demoji\n",
    "#demoji.download_codes()\n",
    "from nltk.tokenize import TweetTokenizer\n",
    "from argparse import Namespace\n",
    "from collections import Counter\n",
    "import json\n",
    "import os\n",
    "import string\n",
    "import re\n",
    "import torch\n",
    "import torch.nn as nn\n",
    "import torch.nn.functional as F\n",
    "import torch.optim as optim\n",
    "from torch.utils.data import Dataset, DataLoader"
   ]
  },
  {
   "cell_type": "markdown",
   "metadata": {},
   "source": [
    "### Task A: Binary Classfication of tweets as Ironic/Non-Ironic ###"
   ]
  },
  {
   "cell_type": "markdown",
   "metadata": {},
   "source": [
    "#### Data Preparation ####"
   ]
  },
  {
   "cell_type": "code",
   "execution_count": null,
   "metadata": {},
   "outputs": [],
   "source": [
    "'''\n",
    "1) Replace emojis with :text:\n",
    "2) Replace @user\n",
    "3) Replace url\n",
    "'''"
   ]
  },
  {
   "cell_type": "code",
   "execution_count": null,
   "metadata": {},
   "outputs": [],
   "source": [
    "taskA_train_file = \"./data/taskA/train_emoji.txt\"\n",
    "taskA_test_file = \"./data/taskA/test_emoji.txt\""
   ]
  },
  {
   "cell_type": "code",
   "execution_count": null,
   "metadata": {},
   "outputs": [],
   "source": [
    "with open(taskA_train_file, 'r') as f:\n",
    "    train_lines = [line.split('\\t') for line in f.readlines()][1:]\n",
    "assert len(train_lines) == 3834\n",
    "with open(taskA_test_file, 'r') as f:\n",
    "    test_lines = [line.split('\\t') for line in f.readlines()][1:]\n",
    "assert len(test_lines) == 784"
   ]
  },
  {
   "cell_type": "code",
   "execution_count": null,
   "metadata": {},
   "outputs": [],
   "source": [
    "taskA_train = pd.DataFrame(train_lines, columns = ['Tweet index', 'label', 'Tweet text'])\n",
    "taskA_test = pd.DataFrame(test_lines, columns = ['Tweet index', 'label', 'Tweet text'])"
   ]
  },
  {
   "cell_type": "code",
   "execution_count": null,
   "metadata": {},
   "outputs": [],
   "source": [
    "# display full cell of dataframe\n",
    "pd.set_option('display.max_colwidth', -1)"
   ]
  },
  {
   "cell_type": "code",
   "execution_count": null,
   "metadata": {},
   "outputs": [],
   "source": [
    "taskA_train.head(1)"
   ]
  },
  {
   "cell_type": "code",
   "execution_count": null,
   "metadata": {},
   "outputs": [],
   "source": [
    "taskA_test.head(1)"
   ]
  },
  {
   "cell_type": "code",
   "execution_count": null,
   "metadata": {
    "scrolled": true
   },
   "outputs": [],
   "source": [
    "# tokenize\n",
    "tokenizer = TweetTokenizer()\n",
    "# test\n",
    "tweet = \"I asked God to protect me from my enemies .. shortly after I started losing friends 😳💯  or #naah\"\n",
    "print(tokenizer.tokenize(tweet))"
   ]
  },
  {
   "cell_type": "code",
   "execution_count": null,
   "metadata": {},
   "outputs": [],
   "source": [
    "# get full vocab for training data\n",
    "vocab = set(tokenizer.tokenize(' '.join(taskA_train['Tweet text'])))\n",
    "# sort vocab\n",
    "vocab = sorted(vocab)\n",
    "print(\"Vocab size: \", len(vocab))\n",
    "#print(vocab)"
   ]
  },
  {
   "cell_type": "code",
   "execution_count": null,
   "metadata": {},
   "outputs": [],
   "source": [
    "# inspect vocabulary\n",
    "# urls, hashtag, usertag, number, punctuation\n",
    "urls = [token for token in vocab if 'http' in token]\n",
    "print(\"Number of urls: {}\".format(len(urls)))\n",
    "vocab_tmp = list(set(vocab) - set(urls))\n",
    "# hashtags\n",
    "hashtags = [token for token in vocab_tmp if '#' in token]\n",
    "print(\"Number of hashtags: {}\".format(len(hashtags)))\n",
    "vocab_tmp = list(set(vocab_tmp) - set(hashtags))\n",
    "# emojis\n",
    "emojis = demoji.findall(' '.join(vocab_tmp))\n",
    "print(\"Number of emojis: {}\".format(len(emojis)))\n",
    "#print(emojis)\n",
    "vocab_tmp = list(set(vocab_tmp) - set(emojis))\n",
    "usertag = [token for token in vocab_tmp if '@' in token]\n",
    "print(\"Number of usertag: {}\".format(len(usertag)))\n",
    "vocab_tmp = list(set(vocab_tmp) - set(usertag))\n",
    "# numbers \n",
    "alphanumeric = vocab_tmp\n",
    "print(\"Number of alphanumeric and punctuations: {}\".format(len(alphanumeric)))"
   ]
  },
  {
   "cell_type": "code",
   "execution_count": null,
   "metadata": {},
   "outputs": [],
   "source": [
    "'''\n",
    "All urls will take the [URL] token\n",
    "All usertag will take the [USER] token\n",
    "All emojis will be translated to text surrounded by :\n",
    "    examples, 💯 will be :hundred points:\n",
    "alphanumeric and puntuations will be left as they are\n",
    "'''\n",
    "# preprocess function that make the above adjustments to tweet text\n",
    "def preprocess(text):\n",
    "    tokenizer = TweetTokenizer()\n",
    "    tokens = tokenizer.tokenize(text)\n",
    "    emojis = demoji.findall(text)\n",
    "    cleaned = []\n",
    "    for token in tokens:\n",
    "        if 'http' in token:\n",
    "            cleaned.append('[URL]')\n",
    "        elif '@' in token:\n",
    "            cleaned.append('[USER]')\n",
    "        elif token in emojis:\n",
    "            cleaned.append(':' + ''.join(emojis[token].split()) + ':')\n",
    "        else:\n",
    "            cleaned.append(token.lower())\n",
    "    return ' '.join(cleaned)"
   ]
  },
  {
   "cell_type": "code",
   "execution_count": null,
   "metadata": {
    "scrolled": true
   },
   "outputs": [],
   "source": [
    "cleaned_train = taskA_train['Tweet text'].map(preprocess)\n",
    "cleaned_test = taskA_test['Tweet text'].map(preprocess)"
   ]
  },
  {
   "cell_type": "code",
   "execution_count": null,
   "metadata": {},
   "outputs": [],
   "source": [
    "taskA_train['Tweet text'] = cleaned_train\n",
    "taskA_test['Tweet text'] = cleaned_test\n",
    "taskA_train.to_csv('./preprocessed/taskA/train.csv', header = True, index = False)\n",
    "taskA_test.to_csv('./preprocessed/taskA/test.csv', header = True, index = False)\n"
   ]
  },
  {
   "cell_type": "code",
   "execution_count": null,
   "metadata": {},
   "outputs": [],
   "source": [
    "# write vocab file\n",
    "vocab = set(tokenizer.tokenize(' '.join(taskA_train['Tweet text'])))\n",
    "# sort vocab\n",
    "vocab = sorted(vocab)\n",
    "print(\"Vocab size: \", len(vocab))\n",
    "#print(vocab)\n",
    "with open('./preprocessed/taskA/vocab.txt', 'w') as f:\n",
    "    for token in sorted(vocab):\n",
    "        f.write(token + '\\n')"
   ]
  },
  {
   "cell_type": "code",
   "execution_count": null,
   "metadata": {},
   "outputs": [],
   "source": [
    "# write vocab file for preprocessed dataset\n",
    "preprocessed_data = pd.read_csv(\"./preprocessed/taskA/train_taskA.csv\")\n",
    "vocab = sorted(list(set(' '.join(preprocessed_data['Tweet text']).split())))\n",
    "print(len(vocab))\n",
    "# write to preprocessed_vocab.txt\n",
    "with open(\"./preprocessed/taskA/preprocessed_vocab.txt\", 'w') as f:\n",
    "    for word in vocab:\n",
    "        f.write(word + '\\n')"
   ]
  },
  {
   "cell_type": "code",
   "execution_count": null,
   "metadata": {},
   "outputs": [],
   "source": [
    "# Replace Emojis with text #\n",
    "# test\n",
    "#tweet = \"@TargetZonePT 😡 no he bloody isn't I was upstairs getting changed !\"\n",
    "tweet = \"I asked God to protect me from my enemies .. shortly after I started losing friends 😳💯  or #naah\"\n",
    "demoji.findall(tweet)"
   ]
  },
  {
   "cell_type": "markdown",
   "metadata": {},
   "source": [
    "#### Model: Classifying Tweets as Ironic/Non-Ironic with a Neural Network ####"
   ]
  },
  {
   "cell_type": "code",
   "execution_count": 33,
   "metadata": {},
   "outputs": [
    {
     "name": "stdout",
     "output_type": "stream",
     "text": [
      "3000\n"
     ]
    },
    {
     "data": {
      "text/plain": [
       "Index(['Tweet index', 'label', 'Tweet text'], dtype='object')"
      ]
     },
     "execution_count": 33,
     "metadata": {},
     "output_type": "execute_result"
    }
   ],
   "source": [
    "'''\n",
    "Reference: \n",
    "Natural Language Processing with PyTorch\n",
    "Delip Rao & Brian McMahan\n",
    "'''\n",
    "# train.csv is preprocessed by teammate with 17 tweets with 0 label removed\n",
    "# it facilitates 5-fold cross validation\n",
    "df = pd.read_csv(\"./preprocessed/taskA/train_taskA.csv\")\n",
    "print(len(df))\n",
    "df.columns"
   ]
  },
  {
   "cell_type": "code",
   "execution_count": 34,
   "metadata": {},
   "outputs": [],
   "source": [
    "def get_train_val_split(infile, seed = 1):\n",
    "    folds = {}\n",
    "    random.seed(seed)\n",
    "    # create a dictionary partition\n",
    "    # partition['train']: list of training IDs\n",
    "    # partition['validation']: list of validation IDs\n",
    "    length = len(pd.read_csv(infile))\n",
    "    indices = list(range(length))\n",
    "    random.shuffle(indices)\n",
    "    one_fold = length // 5\n",
    "    for i in range(1, 6):\n",
    "        curr_dict = {}\n",
    "        curr_dict['validation'] = indices[one_fold * (i - 1) : one_fold * i]\n",
    "        curr_dict['train'] = list(set(indices) - set(curr_dict['validation']))\n",
    "        folds[i] = curr_dict\n",
    "    return folds"
   ]
  },
  {
   "cell_type": "code",
   "execution_count": 184,
   "metadata": {},
   "outputs": [],
   "source": [
    "vocab = {}\n",
    "def build_vocab(infile, fold, vocab_size = 1000):\n",
    "    global vocab\n",
    "    vocab = {}\n",
    "    freq_dict = {}\n",
    "    df = pd.read_csv(infile)\n",
    "    df = df.iloc[fold['train'],:]\n",
    "    # concat all tweets into one string\n",
    "    tweets_string = ' '.join(df['Tweet text'])\n",
    "    # remove punctuation, convert to lower case\n",
    "    processed_tweets_string = re.sub(r'[^\\w\\s]', ' ', tweets_string).lower()\n",
    "    # split into tokens\n",
    "    tokens = processed_tweets_string.split()\n",
    "    # create count dictionary freq_dict\n",
    "    for token in tokens:\n",
    "        if token in freq_dict:\n",
    "            freq_dict[token] += 1\n",
    "        else:\n",
    "            freq_dict[token] = 1\n",
    "    # sort dictionary in descending freq count\n",
    "    sorted_freq = sorted(freq_dict.items(), key = lambda x:x[1], reverse = True)\n",
    "    # take top vocab_size - 1 vocab, accounting for [UNK] token\n",
    "    pruned_vocab = sorted_freq[:vocab_size - 1]\n",
    "    # add to vocab\n",
    "    vocab['[UNK]'] = 0\n",
    "    for i, token_tuple in enumerate(pruned_vocab):\n",
    "        vocab[token_tuple[0]] = i + 1\n",
    "    return"
   ]
  },
  {
   "cell_type": "code",
   "execution_count": 36,
   "metadata": {},
   "outputs": [],
   "source": [
    "def vectorizer(infile, vocab_size = 1000):\n",
    "    vectors = {}\n",
    "    labels = {}\n",
    "    df = pd.read_csv(infile)\n",
    "    for index, row in df.iterrows():\n",
    "        vec = [0] * vocab_size\n",
    "        tokens = list(set(re.sub(r'[^\\w\\s]', ' ', row['Tweet text']).lower().split()))\n",
    "        for token in tokens:\n",
    "            if token in vocab:\n",
    "                vec[vocab[token]] = 1\n",
    "            else:\n",
    "                vec[0] = 1\n",
    "        vectors[index] = vec\n",
    "        labels[index] = int(row['label'])\n",
    "    return (vectors, labels)"
   ]
  },
  {
   "cell_type": "code",
   "execution_count": 37,
   "metadata": {},
   "outputs": [],
   "source": [
    "import torch\n",
    "from torch.utils import data\n",
    "class Dataset(data.Dataset):\n",
    "    def __init__(self, list_IDs, labels):\n",
    "        self.labels = labels\n",
    "        self.list_IDs = list_IDs\n",
    "    \n",
    "    def __len__(self):\n",
    "        return len(self.list_IDs)\n",
    "    \n",
    "    def __getitem__(self, index):\n",
    "        # generates one sample of data\n",
    "        ID = self.list_IDs[index]\n",
    "        X = torch.tensor(vectors[ID])\n",
    "        y = self.labels[ID]\n",
    "        return X, y"
   ]
  },
  {
   "cell_type": "code",
   "execution_count": 38,
   "metadata": {},
   "outputs": [],
   "source": [
    "''' Model '''\n",
    "class IronyClassifier(nn.Module):\n",
    "    ''' A 2-layer Multilayer Perceptron for classifying tweets '''\n",
    "    def __init__(self, input_dim, hidden_dim, output_dim):\n",
    "        '''\n",
    "        Args:\n",
    "            input_dim (int): size of input vector(size of vocab)\n",
    "            hidden_dim (int): output size of the first linear layer\n",
    "            output_dim (int): output size of the second linear layer(number of classes)\n",
    "        '''\n",
    "        super(IronyClassifier, self).__init__()\n",
    "        # fully connected layer 1\n",
    "        self.fc1 = nn.Linear(input_dim, hidden_dim)\n",
    "        self.fc2 = nn.Linear(hidden_dim, output_dim)\n",
    "    ''' Forward propogation of the classifier '''    \n",
    "    def forward(self, x_in, apply_softmax = False):\n",
    "        '''\n",
    "        Args: \n",
    "            x_in (torch.Tensor): an input data tensor\n",
    "                x_in.shape should be (batch, input_dim)\n",
    "            apply_softmax (bool): a flag for softmax activation\n",
    "                should be false if using Cross Entropy Loss\n",
    "        Returns:\n",
    "            result tensor. tensor.shape should be (batch, output_dim)\n",
    "        '''\n",
    "        intermediate_vector = F.relu(self.fc1(x_in))\n",
    "        prediction_vector = self.fc2(intermediate_vector)\n",
    "        \n",
    "        if apply_softmax:\n",
    "            prediction_vector = F.softmax(prediction_vector, dim = 1)\n",
    "            \n",
    "        return prediction_vector\n",
    "    "
   ]
  },
  {
   "cell_type": "code",
   "execution_count": 39,
   "metadata": {},
   "outputs": [],
   "source": [
    "def compute_accuracy(y_pred, y_target):\n",
    "    _, y_pred_indices = y_pred.max(dim=1)\n",
    "    n_correct = torch.eq(y_pred_indices, y_target).sum().item()\n",
    "    return n_correct / len(y_pred_indices)"
   ]
  },
  {
   "cell_type": "code",
   "execution_count": 40,
   "metadata": {},
   "outputs": [],
   "source": [
    "data_file = \"./preprocessed/taskA/train_taskA.csv\""
   ]
  },
  {
   "cell_type": "code",
   "execution_count": 189,
   "metadata": {},
   "outputs": [],
   "source": [
    "args = Namespace(\n",
    "    # Training  hyper parameters\n",
    "    vocab_size = 1000,\n",
    "    num_epochs = 20,\n",
    "    hidden_dim = 3,\n",
    "    learning_rate = 0.0002,\n",
    "    batch_size = 32,\n",
    ")"
   ]
  },
  {
   "cell_type": "code",
   "execution_count": 190,
   "metadata": {},
   "outputs": [
    {
     "name": "stdout",
     "output_type": "stream",
     "text": [
      "1000\n"
     ]
    }
   ],
   "source": [
    "# 5-fold cross validation\n",
    "# get the indices for train and validation for each fold\n",
    "global vectors, labels\n",
    "folds = get_train_val_split(data_file)\n",
    "fold = 1\n",
    "partition = folds[fold]\n",
    "assert len(partition['train']) == 2400\n",
    "assert len(partition['validation']) == 600\n",
    "# create vocab\n",
    "build_vocab(data_file, partition, vocab_size = args.vocab_size)\n",
    "print(len(vocab))\n",
    "assert len(vocab) == args.vocab_size\n",
    "# create vectors and labels\n",
    "vectors, labels = vectorizer(data_file, vocab_size = args.vocab_size)\n",
    "# training loop\n",
    "\n",
    "training_set = Dataset(partition['train'], labels)\n",
    "training_generator = data.DataLoader(training_set, batch_size = args.batch_size, shuffle = True)\n",
    "\n",
    "validation_set = Dataset(partition['validation'], labels)\n",
    "validation_generator = data.DataLoader(validation_set, batch_size = args.batch_size, shuffle = True)\n"
   ]
  },
  {
   "cell_type": "code",
   "execution_count": 193,
   "metadata": {
    "scrolled": false
   },
   "outputs": [
    {
     "name": "stdout",
     "output_type": "stream",
     "text": [
      "Epoch 1: \n",
      "  Train Loss: 0.705472398598989\n",
      "  Train Accuracy: 0.4920833333333334\n",
      "Epoch 2: \n",
      "  Train Loss: 0.7018710390726727\n",
      "  Train Accuracy: 0.4920833333333332\n",
      "Epoch 3: \n",
      "  Train Loss: 0.6978029433886213\n",
      "  Train Accuracy: 0.4920833333333333\n",
      "Epoch 4: \n",
      "  Train Loss: 0.6935439046223958\n",
      "  Train Accuracy: 0.4920833333333332\n",
      "Epoch 5: \n",
      "  Train Loss: 0.6889973974227905\n",
      "  Train Accuracy: 0.49416666666666664\n",
      "Epoch 6: \n",
      "  Train Loss: 0.6838646944363911\n",
      "  Train Accuracy: 0.5166666666666666\n",
      "Epoch 7: \n",
      "  Train Loss: 0.6780102411905925\n",
      "  Train Accuracy: 0.5587500000000001\n",
      "Epoch 8: \n",
      "  Train Loss: 0.6715598702430724\n",
      "  Train Accuracy: 0.61875\n",
      "Epoch 9: \n",
      "  Train Loss: 0.6645601320266724\n",
      "  Train Accuracy: 0.6608333333333333\n",
      "Epoch 10: \n",
      "  Train Loss: 0.657290608882904\n",
      "  Train Accuracy: 0.69125\n",
      "Epoch 11: \n",
      "  Train Loss: 0.6497125943501793\n",
      "  Train Accuracy: 0.7108333333333335\n",
      "Epoch 12: \n",
      "  Train Loss: 0.6419802618026734\n",
      "  Train Accuracy: 0.7175\n",
      "Epoch 13: \n",
      "  Train Loss: 0.6342303967475892\n",
      "  Train Accuracy: 0.7233333333333334\n",
      "Epoch 14: \n",
      "  Train Loss: 0.6264252781867982\n",
      "  Train Accuracy: 0.725\n",
      "Epoch 15: \n",
      "  Train Loss: 0.6189438239733377\n",
      "  Train Accuracy: 0.7295833333333333\n",
      "Epoch 16: \n",
      "  Train Loss: 0.6113107339541116\n",
      "  Train Accuracy: 0.7354166666666666\n",
      "Epoch 17: \n",
      "  Train Loss: 0.6039853405952452\n",
      "  Train Accuracy: 0.7374999999999999\n",
      "Epoch 18: \n",
      "  Train Loss: 0.596889746983846\n",
      "  Train Accuracy: 0.7375000000000002\n",
      "Epoch 19: \n",
      "  Train Loss: 0.5898573883374533\n",
      "  Train Accuracy: 0.7391666666666665\n",
      "Epoch 20: \n",
      "  Train Loss: 0.5833123175303141\n",
      "  Train Accuracy: 0.7408333333333335\n"
     ]
    }
   ],
   "source": [
    "# training loop\n",
    "device = 'cpu'\n",
    "classifier = IronyClassifier(input_dim = args.vocab_size, hidden_dim = args.hidden_dim, output_dim = 2)\n",
    "classifier = classifier.to(device)\n",
    "loss_func = nn.CrossEntropyLoss()\n",
    "optimizer = optim.Adam(classifier.parameters(), lr = args.learning_rate)\n",
    "\n",
    "for epoch in range(args.num_epochs):\n",
    "    # training\n",
    "    running_loss = 0.0\n",
    "    running_acc = 0.0\n",
    "    classifier.train()\n",
    "    batch_index = 0\n",
    "    for local_batch, local_labels in training_generator:\n",
    "        # clear gradients\n",
    "        optimizer.zero_grad()\n",
    "        # compute output\n",
    "        y_pred = classifier(local_batch.float())\n",
    "        # compute loss\n",
    "        loss = loss_func(y_pred, local_labels)\n",
    "        loss_t = loss.item()\n",
    "        running_loss += (loss_t - running_loss) / (batch_index + 1)\n",
    "        # produce gradients\n",
    "        loss.backward()\n",
    "        # backpropogation\n",
    "        optimizer.step()\n",
    "        # compute accuracy\n",
    "        acc_t = compute_accuracy(y_pred, local_labels)\n",
    "        running_acc += (acc_t - running_acc) / (batch_index + 1)\n",
    "        batch_index += 1\n",
    "    print(\"Epoch {}: \".format(epoch + 1))\n",
    "    print(\"  Train Loss: {}\".format(running_loss))\n",
    "    print(\"  Train Accuracy: {}\".format(running_acc))     "
   ]
  },
  {
   "cell_type": "code",
   "execution_count": 194,
   "metadata": {},
   "outputs": [
    {
     "name": "stdout",
     "output_type": "stream",
     "text": [
      "  Val Loss: 0.6476331164962368\n",
      "  Val Accuracy: 0.6337719298245613\n"
     ]
    }
   ],
   "source": [
    "running_loss = 0.0\n",
    "running_acc = 0.0\n",
    "classifier.eval()\n",
    "batch_index = 0\n",
    "with torch.set_grad_enabled(False):\n",
    "    for local_batch, local_labels in validation_generator:\n",
    "        # get prediction\n",
    "        y_pred =  classifier(local_batch.float())\n",
    "        loss = loss_func(y_pred, local_labels)\n",
    "        loss_t = loss.item()\n",
    "        running_loss += (loss_t - running_loss) / (batch_index + 1)\n",
    "        # compute accuracy\n",
    "        acc_t = compute_accuracy(y_pred, local_labels)\n",
    "        running_acc += (acc_t - running_acc) / (batch_index + 1)\n",
    "        batch_index += 1\n",
    "    print(\"  Val Loss: {}\".format(running_loss))\n",
    "    print(\"  Val Accuracy: {}\".format(running_acc))"
   ]
  },
  {
   "cell_type": "markdown",
   "metadata": {},
   "source": [
    "#### Hyperparameter Tuning with 5-fold Cross Validation ####"
   ]
  },
  {
   "cell_type": "code",
   "execution_count": 89,
   "metadata": {},
   "outputs": [],
   "source": [
    "'''\n",
    "Hyperparameters:\n",
    "    vocab_size\n",
    "    num_epochs\n",
    "    hidden_dim\n",
    "    learning_rate\n",
    "    batch_size\n",
    "'''\n",
    "def plot_accuracy(x, y, z, title, xlabel, ylabel):\n",
    "    fig = plt.figure()\n",
    "    test, = plt.plot(x, y, marker = 'o', color = 'royalblue', linestyle = '--')\n",
    "    train, = plt.plot(x, z, marker = 'o', color = 'coral', linestyle = '--')\n",
    "    plt.legend([test, train], [\"test\", \"train\"])\n",
    "    plt.grid(color='mediumpurple', linestyle='--', alpha = 0.5)\n",
    "    fig.suptitle(title)\n",
    "    plt.xlabel(xlabel)\n",
    "    plt.ylabel(ylabel)\n",
    "    plt.show()\n",
    "    return"
   ]
  },
  {
   "cell_type": "code",
   "execution_count": 27,
   "metadata": {},
   "outputs": [],
   "source": [
    "##### Vocab Size #####"
   ]
  },
  {
   "cell_type": "code",
   "execution_count": 195,
   "metadata": {},
   "outputs": [
    {
     "data": {
      "image/png": "[encoded data removed]",
      "text/plain": [
       "<Figure size 432x288 with 1 Axes>"
      ]
     },
     "metadata": {
      "needs_background": "light"
     },
     "output_type": "display_data"
    }
   ],
   "source": [
    "# num_epochs = 20\n",
    "# hidden_dim = 3\n",
    "# learning_rate = 0.0002\n",
    "# batch_size = 32\n",
    "x = [100, 500, 1000, 2000, 3000, 4000, 5000, 6000, 7000]\n",
    "# test accuracy\n",
    "y = [0.614, 0.615, 0.619, 0.623, 0.634, 0.632, 0.646, 0.634, 0.576]\n",
    "# train accuracy\n",
    "z = [0.641, 0.692, 0.729, 0.797, 0.802, 0.839, 0.845, 0.868, 0.876]\n",
    "plot_accuracy(x, y, z, \"Accuracy vs Vocab Size\", \"Vocab size\", \"Accuracy\")\n",
    "\n"
   ]
  },
  {
   "cell_type": "code",
   "execution_count": null,
   "metadata": {},
   "outputs": [],
   "source": []
  }
 ],
 "metadata": {
  "kernelspec": {
   "display_name": "Python 3",
   "language": "python",
   "name": "python3"
  },
  "language_info": {
   "codemirror_mode": {
    "name": "ipython",
    "version": 3
   },
   "file_extension": ".py",
   "mimetype": "text/x-python",
   "name": "python",
   "nbconvert_exporter": "python",
   "pygments_lexer": "ipython3",
   "version": "3.7.1"
  }
 },
 "nbformat": 4,
 "nbformat_minor": 2
}
